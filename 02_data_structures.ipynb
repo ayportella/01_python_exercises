{
  "nbformat": 4,
  "nbformat_minor": 0,
  "metadata": {
    "colab": {
      "provenance": [],
      "collapsed_sections": [],
      "include_colab_link": true
    },
    "kernelspec": {
      "name": "python3",
      "display_name": "Python 3"
    }
  },
  "cells": [
    {
      "cell_type": "markdown",
      "metadata": {
        "id": "view-in-github",
        "colab_type": "text"
      },
      "source": [
        "<a href=\"https://colab.research.google.com/github/ayportella/data-analytics-exercises/blob/main/ayp_Python_M2_support_material02_exercise.ipynb\" target=\"_parent\"><img src=\"https://colab.research.google.com/assets/colab-badge.svg\" alt=\"Open In Colab\"/></a>"
      ]
    },
    {
      "cell_type": "markdown",
      "metadata": {
        "id": "KJqp9AANOCtf"
      },
      "source": [
        "<img src=\"https://raw.githubusercontent.com/andre-marcos-perez/ebac-course-utils/main/media/logo/newebac_logo_black_half.png\" alt=\"ebac-logo\">\n",
        "\n",
        "---\n",
        "\n",
        "# **Módulo** | Python: Estruturas de Dados\n",
        "Caderno de **Exercícios**<br> \n",
        "Professor [André Perez](https://www.linkedin.com/in/andremarcosperez/)\n",
        "\n",
        "---"
      ]
    },
    {
      "cell_type": "markdown",
      "metadata": {
        "id": "d9jDtUbDOE1-"
      },
      "source": [
        "# **Tópicos**\n",
        "\n",
        "<ol type=\"1\">\n",
        "  <li>Listas;</li>\n",
        "  <li>Conjuntos;</li>\n",
        "  <li>Dicionários.</li>\n",
        "</ol>"
      ]
    },
    {
      "cell_type": "markdown",
      "metadata": {
        "id": "SmoHgt-lwkpD"
      },
      "source": [
        "---"
      ]
    },
    {
      "cell_type": "markdown",
      "metadata": {
        "id": "GABI6OW8OfQ2"
      },
      "source": [
        "# **Exercícios**"
      ]
    },
    {
      "cell_type": "markdown",
      "metadata": {
        "id": "muD1vxozykSC"
      },
      "source": [
        "## 1\\. Listas"
      ]
    },
    {
      "cell_type": "markdown",
      "metadata": {
        "id": "ahrFfCuBxJKs"
      },
      "source": [
        "Criei uma lista chamada `filmes` com o nome dos 10 primeiros filmes mais bem avaliados no site no [IMDB](https://www.imdb.com/chart/top/). Imprima o resultado."
      ]
    },
    {
      "cell_type": "code",
      "metadata": {
        "id": "OgL6Hv3bzOHI",
        "colab": {
          "base_uri": "https://localhost:8080/"
        },
        "outputId": "e4f589e1-6c6b-4b07-8b60-537d405e4610"
      },
      "source": [
        "filmes = [\"um sonho de liberdade\", \"o poderoso chefão\", \"batman: o cavaleiro das trevas\", \"o poderoso chefão II\", \"12 homens e uma sentença\", \"a lista de schindler\", \"o senhor dos aneis: o retorno do rei\", \"pulp fiction: tempo de violência\", \"o senhor dos anéis: a sociedade do anel\", \"três homens em conflito\"]\n",
        "print(\"ranking da semana 1 = \", filmes) "
      ],
      "execution_count": null,
      "outputs": [
        {
          "output_type": "stream",
          "name": "stdout",
          "text": [
            "ranking da semana 1 =  ['um sonho de liberdade', 'o poderoso chefão', 'batman: o cavaleiro das trevas', 'o poderoso chefão II', '12 homens e uma sentença', 'a lista de schindler', 'o senhor dos aneis: o retorno do rei', 'pulp fiction: tempo de violência', 'o senhor dos anéis: a sociedade do anel', 'três homens em conflito']\n"
          ]
        }
      ]
    },
    {
      "cell_type": "markdown",
      "metadata": {
        "id": "KI9zQRT2xa7m"
      },
      "source": [
        "Simule a movimentação do *ranking*. Utilize os métodos `insert` e `pop` para trocar a posição do primeiro e do segundo filme da lista. Imprima o resultado.\n",
        "\n"
      ]
    },
    {
      "cell_type": "code",
      "metadata": {
        "id": "zX3mA3_GzrXH",
        "colab": {
          "base_uri": "https://localhost:8080/"
        },
        "outputId": "b28b6f51-9de8-4ec5-bc1e-e2698906b508"
      },
      "source": [
        "return_value = filmes.pop(1)\n",
        "filmes.insert(0, \"o poderoso chefão\")\n",
        "print(\"ranking da semana 2 = \", filmes)"
      ],
      "execution_count": null,
      "outputs": [
        {
          "output_type": "stream",
          "name": "stdout",
          "text": [
            "ranking da semana 2 =  ['o poderoso chefão', 'o poderoso chefão', 'batman: o cavaleiro das trevas', 'o poderoso chefão II', '12 homens e uma sentença', 'a lista de schindler', 'o senhor dos aneis: o retorno do rei', 'pulp fiction: tempo de violência', 'o senhor dos anéis: a sociedade do anel', 'três homens em conflito']\n"
          ]
        }
      ]
    },
    {
      "cell_type": "markdown",
      "metadata": {
        "id": "zMN1Q3jdwoJm"
      },
      "source": [
        "---"
      ]
    },
    {
      "cell_type": "markdown",
      "metadata": {
        "id": "lxa5L6uF0ZJE"
      },
      "source": [
        "## 2\\. Conjuntos"
      ]
    },
    {
      "cell_type": "markdown",
      "metadata": {
        "id": "9JahS2Kj0d5u"
      },
      "source": [
        "Aconteceu um erro no seu *ranking*. Simule a duplicação dos três últimos filmes da lista. Imprima o resultado."
      ]
    },
    {
      "cell_type": "code",
      "metadata": {
        "id": "BnjnLBNC6PGe",
        "colab": {
          "base_uri": "https://localhost:8080/"
        },
        "outputId": "230ff10e-e4f0-4ce2-d524-a1d1fd7847b7"
      },
      "source": [
        "filmes =  ['um sonho de liberdade', 'o poderoso chefão', 'batman: o cavaleiro das trevas', 'o poderoso chefão II', '12 homens e uma sentença', 'a lista de schindler', 'o senhor dos aneis: o retorno do rei', 'pulp fiction: tempo de violência', 'o senhor dos anéis: a sociedade do anel', 'três homens em conflito']\n",
        "filmes.insert(-1, 'pulp fiction: tempo de violência')\n",
        "filmes.insert(-1, 'o senhor dos anéis: a sociedade do anel')\n",
        "filmes.insert(-1, 'três homens em conflito')\n",
        "print(filmes)\n"
      ],
      "execution_count": null,
      "outputs": [
        {
          "output_type": "stream",
          "name": "stdout",
          "text": [
            "['um sonho de liberdade', 'o poderoso chefão', 'batman: o cavaleiro das trevas', 'o poderoso chefão II', '12 homens e uma sentença', 'a lista de schindler', 'o senhor dos aneis: o retorno do rei', 'pulp fiction: tempo de violência', 'o senhor dos anéis: a sociedade do anel', 'pulp fiction: tempo de violência', 'o senhor dos anéis: a sociedade do anel', 'três homens em conflito', 'três homens em conflito']\n"
          ]
        }
      ]
    },
    {
      "cell_type": "markdown",
      "metadata": {
        "id": "suxTfCJB6ZiX"
      },
      "source": [
        "Utiliza a conversão `set` e `list` para remover os valores duplicados. Imprima o resultado. "
      ]
    },
    {
      "cell_type": "code",
      "metadata": {
        "id": "ZvUGN-0n6joM",
        "colab": {
          "base_uri": "https://localhost:8080/"
        },
        "outputId": "c5a46382-6563-4e0e-a7d0-0c6a9c862fdd"
      },
      "source": [
        "print(filmes)\n",
        "filmes2 = list(set(filmes))\n",
        "print(filmes2)"
      ],
      "execution_count": null,
      "outputs": [
        {
          "output_type": "stream",
          "name": "stdout",
          "text": [
            "['um sonho de liberdade', 'o poderoso chefão', 'batman: o cavaleiro das trevas', 'o poderoso chefão II', '12 homens e uma sentença', 'a lista de schindler', 'o senhor dos aneis: o retorno do rei', 'pulp fiction: tempo de violência', 'o senhor dos anéis: a sociedade do anel', 'pulp fiction: tempo de violência', 'o senhor dos anéis: a sociedade do anel', 'três homens em conflito', 'três homens em conflito']\n",
            "['um sonho de liberdade', 'o poderoso chefão II', 'o senhor dos anéis: a sociedade do anel', 'o poderoso chefão', '12 homens e uma sentença', 'o senhor dos aneis: o retorno do rei', 'pulp fiction: tempo de violência', 'batman: o cavaleiro das trevas', 'a lista de schindler', 'três homens em conflito']\n"
          ]
        }
      ]
    },
    {
      "cell_type": "markdown",
      "metadata": {
        "id": "ShkK35eQ6pAM"
      },
      "source": [
        "---"
      ]
    },
    {
      "cell_type": "markdown",
      "metadata": {
        "id": "EL_FzmxL6rTv"
      },
      "source": [
        "## 3\\. Dicionários"
      ]
    },
    {
      "cell_type": "markdown",
      "metadata": {
        "id": "i8l0gFqRCpfT"
      },
      "source": [
        "Repita os exercícios da parte 1 (listas). Os elementos da lista `filmes` devem ser dicionários no seguinte formato: `{'nome': <nome-do-filme>, 'ano': <ano do filme>}, 'sinopse': <sinopse do filme>}`. "
      ]
    },
    {
      "cell_type": "code",
      "metadata": {
        "id": "tu6MSFwGDnHv",
        "colab": {
          "base_uri": "https://localhost:8080/"
        },
        "outputId": "035402d8-ce90-4112-e3f3-5b91e3f48614"
      },
      "source": [
        "ranking = []\n",
        "filme = {\"nome\": \"um sonho de liberdade\", \"ano\": 1994, \"sinopse\": \"Dois homens presos se reúnem ao longo de vários anos, encontrando consolo e eventual redenção através de atos de decência comum.\"}\n",
        "ranking.append(filme)\n",
        "filme = {\"nome\": \"o poderoso chefão\", \"ano\": 1972, \"sinopse\": \"O patriarca idoso de uma dinastia do crime organizado transfere o controle de seu império clandestino para seu filho relutante.\"}\n",
        "ranking.append(filme)\n",
        "filme = {\"nome\": \"batman o cavaleiro das trevas\", \"ano\": 2008, \"sinopse\": \"Quando a ameaça conhecida como O Coringa surge de seu passado, causa estragos e caos nas pessoas de Gotham. O Cavaleiro das Trevas deve aceitar um dos maiores testes para combater a injustiça.\"}\n",
        "ranking.append(filme)\n",
        "filme = {\"nome\": \"o poderoso chefão II\", \"ano\": 1974, \"sinopse\": \"Em 1950, Michael Corleone, agora à frente da família, tenta expandir o negócio do crime a Las Vegas, Los Angeles e Cuba. Paralelamente, é revelada a história de Vito Corleone, e de como saiu da Sicília e chegou a Nova Iorque.\"}\n",
        "ranking.append(filme)\n",
        "filme = {\"nome\": \"12 homens e uma sentença\", \"ano\": 1957, \"sinopse\": \"Um jurado que se aposenta tenta evitar um erro judicial forçando seus colegas a reconsiderarem as evidências.\"}\n",
        "ranking.append(filme)\n",
        "filme = {\"nome\": \"a lista de schindler\", \"ano\": 1993, \"sinopse\": 'Dois homens presos se reúnem ao longo de vários anos, encontrando consolo e eventual redenção através de atos de decência comum.'}\n",
        "ranking.append(filme)\n",
        "filme = {\"nome\": \"o senhor dos aneis: o retorno do rei\", \"ano\": 1994, \"sinopse\": 'Gandalf e Aragorn lideram o Mundo dos Homens contra o exército de Sauron para desviar o olhar de Frodo e Sam quando eles se aproximam á Montanha da Perdição com o Um Anel.'}\n",
        "ranking.append(filme)\n",
        "filme = {\"nome\": 'pulp fiction: tempo de violência', \"ano\": 1994, \"sinopse\": 'As vidas de dois assassinos da máfia, um boxeador, um gângster e sua esposa, e um par de bandidos se entrelaçam em quatro histórias de violência e redenção.' }\n",
        "ranking.append(filme)\n",
        "filme = {\"nome\": 'o senhor dos anéis: a sociedade do anel', \"ano\": 2001, \"sinopse\": \"Um manso hobbit do Condado e oito companheiros partem em uma jornada para destruir o poderoso Um Anel e salvar a Terra-média das Trevas.\"}\n",
        "ranking.append(filme)\n",
        "filme = {\"nome\": 'três homens em conflito', \"ano\": 1966, \"sinopse\": \"Um impostor se junta com dois homens para encontrar fortuna num remoto cemitério.\"}\n",
        "ranking.append(filme)\n",
        "print(ranking)"
      ],
      "execution_count": null,
      "outputs": [
        {
          "output_type": "stream",
          "name": "stdout",
          "text": [
            "[{'nome': 'um sonho de liberdade', 'ano': 1994, 'sinopse': 'Dois homens presos se reúnem ao longo de vários anos, encontrando consolo e eventual redenção através de atos de decência comum.'}, {'nome': 'o poderoso chefão', 'ano': 1972, 'sinopse': 'O patriarca idoso de uma dinastia do crime organizado transfere o controle de seu império clandestino para seu filho relutante.'}, {'nome': 'batman o cavaleiro das trevas', 'ano': 2008, 'sinopse': 'Quando a ameaça conhecida como O Coringa surge de seu passado, causa estragos e caos nas pessoas de Gotham. O Cavaleiro das Trevas deve aceitar um dos maiores testes para combater a injustiça.'}, {'nome': 'o poderoso chefão II', 'ano': 1974, 'sinopse': 'Em 1950, Michael Corleone, agora à frente da família, tenta expandir o negócio do crime a Las Vegas, Los Angeles e Cuba. Paralelamente, é revelada a história de Vito Corleone, e de como saiu da Sicília e chegou a Nova Iorque.'}, {'nome': '12 homens e uma sentença', 'ano': 1957, 'sinopse': 'Um jurado que se aposenta tenta evitar um erro judicial forçando seus colegas a reconsiderarem as evidências.'}, {'nome': 'a lista de schindler', 'ano': 1993, 'sinopse': 'Dois homens presos se reúnem ao longo de vários anos, encontrando consolo e eventual redenção através de atos de decência comum.'}, {'nome': 'o senhor dos aneis: o retorno do rei', 'ano': 1994, 'sinopse': 'Gandalf e Aragorn lideram o Mundo dos Homens contra o exército de Sauron para desviar o olhar de Frodo e Sam quando eles se aproximam á Montanha da Perdição com o Um Anel.'}, {'nome': 'pulp fiction: tempo de violência', 'ano': 1994, 'sinopse': 'As vidas de dois assassinos da máfia, um boxeador, um gângster e sua esposa, e um par de bandidos se entrelaçam em quatro histórias de violência e redenção.'}, {'nome': 'o senhor dos anéis: a sociedade do anel', 'ano': 2001, 'sinopse': 'Um manso hobbit do Condado e oito companheiros partem em uma jornada para destruir o poderoso Um Anel e salvar a Terra-média das Trevas.'}, {'nome': 'três homens em conflito', 'ano': 1966, 'sinopse': 'Um impostor se junta com dois homens para encontrar fortuna num remoto cemitério.'}]\n"
          ]
        }
      ]
    }
  ]
}
